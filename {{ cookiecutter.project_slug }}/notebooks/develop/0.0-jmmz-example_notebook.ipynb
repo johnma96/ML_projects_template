{
 "cells": [
  {
   "cell_type": "markdown",
   "metadata": {},
   "source": [
    "You could use this notebook to do a basic exploration of the data\n",
    "Maybe you would like to have one notebook named template.ipynb, as suggest [repoducible-model](https://github.com/cmawer/reproducible-model)"
   ]
  },
  {
   "cell_type": "markdown",
   "metadata": {},
   "source": [
    "# Example for load data from Big Query (And how use the whole package within notebooks)"
   ]
  },
  {
   "cell_type": "code",
   "execution_count": null,
   "metadata": {},
   "outputs": [],
   "source": [
    "# Use this initial code to work in the notebook as if it were a module, that \n",
    "# is, to be able to export classes and functions from other subpackages.\n",
    "\n",
    "import pyprojroot\n",
    "import sys\n",
    "\n",
    "package_path = pyprojroot.here().__str__()\n",
    "if package_path not in sys.path:\n",
    "    sys.path.append(package_path)"
   ]
  },
  {
   "cell_type": "code",
   "execution_count": null,
   "metadata": {},
   "outputs": [],
   "source": [
    "import pandas as pd\n",
    "from utils import Abs_paths, Load_data\n",
    "\n",
    "#Queries for load data from BQ\n",
    "q_relation_CBB_platform = \"\"\" \n",
    "SELECT\n",
    "  *\n",
    "FROM\n",
    "  `dolphin-prod.bi_visualization.relacion_plataforma_CBB`\n",
    "\"\"\"\n",
    "\n",
    "#Using Load_data class to call data from BQ\n",
    "df_relation = Load_data().from_BigQuery(query=q_relation_CBB_platform, \n",
    "                                        name_file=\"credentials_bq.json\")\n",
    "df_relation.head()"
   ]
  },
  {
   "attachments": {},
   "cell_type": "markdown",
   "metadata": {},
   "source": [
    "Upload csv or excel files using:\n",
    "1. An absolute or relative path\n",
    "2. Supplying the type of subfolder in data containing the file + the file name, \n",
    "3. Using the file name only"
   ]
  },
  {
   "cell_type": "code",
   "execution_count": null,
   "metadata": {},
   "outputs": [],
   "source": [
    "# Option 1\n",
    "path = 'G:\\My Drive\\ML_projects\\projects-template\\{{ cookiecutter.project_slug }}\\data\\dummy_data1.xlsx'\n",
    "Load_data().from_excel(path=path)"
   ]
  },
  {
   "cell_type": "code",
   "execution_count": null,
   "metadata": {},
   "outputs": [],
   "source": [
    "# Option 2\n",
    "Load_data().from_excel(type='raw', name_file='dummy_data2.xlsx')"
   ]
  },
  {
   "cell_type": "code",
   "execution_count": null,
   "metadata": {},
   "outputs": [],
   "source": [
    "# Option 2\n",
    "Load_data().from_excel(name_file='dummy_data3.xlsx')"
   ]
  },
  {
   "cell_type": "markdown",
   "metadata": {},
   "source": [
    "# Save data within data folder"
   ]
  },
  {
   "cell_type": "code",
   "execution_count": null,
   "metadata": {},
   "outputs": [],
   "source": [
    "path_raw_data = Abs_paths().get_abs_path_folder(folder_name='raw')\n",
    "path_raw_data"
   ]
  },
  {
   "cell_type": "markdown",
   "metadata": {},
   "source": [
    "**Note:**\n",
    "If you have several folders or files with the same name, the method will return a list of the possible options for you to select the path of your interest"
   ]
  },
  {
   "cell_type": "code",
   "execution_count": null,
   "metadata": {},
   "outputs": [],
   "source": [
    "path_raw_data = Abs_paths().get_abs_path_folder(folder_name='raw')\n",
    "df_relation.to_csv(path_or_buf = path_raw_data + \"relation_cbb_platform.csv\", index=False)"
   ]
  }
 ],
 "metadata": {
  "kernelspec": {
   "display_name": ".venv",
   "language": "python",
   "name": "python3"
  },
  "language_info": {
   "codemirror_mode": {
    "name": "ipython",
    "version": 3
   },
   "file_extension": ".py",
   "mimetype": "text/x-python",
   "name": "python",
   "nbconvert_exporter": "python",
   "pygments_lexer": "ipython3",
   "version": "3.9.12 (tags/v3.9.12:b28265d, Mar 23 2022, 23:52:46) [MSC v.1929 64 bit (AMD64)]"
  },
  "orig_nbformat": 4,
  "vscode": {
   "interpreter": {
    "hash": "15701685d4c04922a5acfbded9ef3bd526d613395a4b7dc2a41bc1b8a065bc04"
   }
  }
 },
 "nbformat": 4,
 "nbformat_minor": 2
}
