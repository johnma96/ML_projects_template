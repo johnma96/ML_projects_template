{
 "cells": [
  {
   "cell_type": "markdown",
   "metadata": {},
   "source": [
    "You could use this notebook to do a basic exploration of the data\n",
    "Maybe you would like to have one notebook named template.ipynb, as suggest [repoducible-model](https://github.com/cmawer/reproducible-model)"
   ]
  },
  {
   "cell_type": "markdown",
   "metadata": {},
   "source": [
    "# Example for load data from Big Query (And how use the whole package within notebooks)"
   ]
  },
  {
   "cell_type": "code",
   "execution_count": 1,
   "metadata": {},
   "outputs": [],
   "source": [
    "# Use this initial code to work in the notebook as if it were a module, that \n",
    "# is, to be able to export classes and functions from other subpackages.\n",
    "\n",
    "import os\n",
    "import sys\n",
    "\n",
    "package_path = os.path.abspath(os.path.join(f'..{os.sep}..'))\n",
    "if package_path not in sys.path:\n",
    "    sys.path.append(package_path)"
   ]
  },
  {
   "cell_type": "code",
   "execution_count": 2,
   "metadata": {},
   "outputs": [
    {
     "data": {
      "text/html": [
       "<div>\n",
       "<style scoped>\n",
       "    .dataframe tbody tr th:only-of-type {\n",
       "        vertical-align: middle;\n",
       "    }\n",
       "\n",
       "    .dataframe tbody tr th {\n",
       "        vertical-align: top;\n",
       "    }\n",
       "\n",
       "    .dataframe thead th {\n",
       "        text-align: right;\n",
       "    }\n",
       "</style>\n",
       "<table border=\"1\" class=\"dataframe\">\n",
       "  <thead>\n",
       "    <tr style=\"text-align: right;\">\n",
       "      <th></th>\n",
       "      <th>id_punto</th>\n",
       "      <th>referencia</th>\n",
       "      <th>cod_detallista</th>\n",
       "      <th>identificacion</th>\n",
       "      <th>nombre</th>\n",
       "    </tr>\n",
       "  </thead>\n",
       "  <tbody>\n",
       "    <tr>\n",
       "      <th>0</th>\n",
       "      <td>23004</td>\n",
       "      <td>100000023004</td>\n",
       "      <td>28381</td>\n",
       "      <td>11284249364</td>\n",
       "      <td>YYM</td>\n",
       "    </tr>\n",
       "    <tr>\n",
       "      <th>1</th>\n",
       "      <td>21955</td>\n",
       "      <td>100000021955</td>\n",
       "      <td>12382</td>\n",
       "      <td>1769</td>\n",
       "      <td>DANA</td>\n",
       "    </tr>\n",
       "    <tr>\n",
       "      <th>2</th>\n",
       "      <td>21950</td>\n",
       "      <td>100000021950</td>\n",
       "      <td>33789</td>\n",
       "      <td>17310</td>\n",
       "      <td>DACAR</td>\n",
       "    </tr>\n",
       "    <tr>\n",
       "      <th>3</th>\n",
       "      <td>45508</td>\n",
       "      <td>100000045508</td>\n",
       "      <td>17798</td>\n",
       "      <td>63437041-8</td>\n",
       "      <td>G Y M</td>\n",
       "    </tr>\n",
       "    <tr>\n",
       "      <th>4</th>\n",
       "      <td>24264</td>\n",
       "      <td>100000024264</td>\n",
       "      <td>104525</td>\n",
       "      <td>42982231</td>\n",
       "      <td>KENCY</td>\n",
       "    </tr>\n",
       "  </tbody>\n",
       "</table>\n",
       "</div>"
      ],
      "text/plain": [
       "  id_punto    referencia cod_detallista identificacion     nombre\n",
       "0    23004  100000023004          28381    11284249364    YYM    \n",
       "1    21955  100000021955          12382           1769   DANA    \n",
       "2    21950  100000021950          33789          17310  DACAR    \n",
       "3    45508  100000045508          17798     63437041-8  G Y M    \n",
       "4    24264  100000024264         104525       42982231  KENCY    "
      ]
     },
     "execution_count": 2,
     "metadata": {},
     "output_type": "execute_result"
    }
   ],
   "source": [
    "import pandas as pd\n",
    "from utils import Abs_paths, Load_data\n",
    "\n",
    "#Queries for load data from BQ\n",
    "q_relation_CBB_platform = \"\"\" \n",
    "SELECT\n",
    "  *\n",
    "FROM\n",
    "  `dolphin-prod.bi_visualization.relacion_plataforma_CBB`\n",
    "\"\"\"\n",
    "\n",
    "#Using Load_data class to call data from BQ\n",
    "df_relation = Load_data().from_BigQuery(query=q_relation_CBB_platform, \n",
    "                                        name_file=\"credentials_bq.json\")\n",
    "df_relation.head()"
   ]
  },
  {
   "cell_type": "code",
   "execution_count": 3,
   "metadata": {},
   "outputs": [
    {
     "data": {
      "text/html": [
       "<div>\n",
       "<style scoped>\n",
       "    .dataframe tbody tr th:only-of-type {\n",
       "        vertical-align: middle;\n",
       "    }\n",
       "\n",
       "    .dataframe tbody tr th {\n",
       "        vertical-align: top;\n",
       "    }\n",
       "\n",
       "    .dataframe thead th {\n",
       "        text-align: right;\n",
       "    }\n",
       "</style>\n",
       "<table border=\"1\" class=\"dataframe\">\n",
       "  <thead>\n",
       "    <tr style=\"text-align: right;\">\n",
       "      <th></th>\n",
       "      <th>data1</th>\n",
       "      <th>data2</th>\n",
       "    </tr>\n",
       "  </thead>\n",
       "  <tbody>\n",
       "    <tr>\n",
       "      <th>0</th>\n",
       "      <td>100</td>\n",
       "      <td>300</td>\n",
       "    </tr>\n",
       "  </tbody>\n",
       "</table>\n",
       "</div>"
      ],
      "text/plain": [
       "   data1  data2\n",
       "0    100    300"
      ]
     },
     "execution_count": 3,
     "metadata": {},
     "output_type": "execute_result"
    }
   ],
   "source": [
    "Load_data().from_excel(type='raw', name_file='dummy_data.xlsx')"
   ]
  },
  {
   "cell_type": "markdown",
   "metadata": {},
   "source": [
    "# Save data within data folder"
   ]
  },
  {
   "cell_type": "code",
   "execution_count": 4,
   "metadata": {},
   "outputs": [],
   "source": [
    "path_data = Abs_paths().get_absolute_path(folder_name='raw', deep=2)\n",
    "df_relation.to_csv(path_or_buf = path_data + \"relation_cbb_platform.csv\", index=False)"
   ]
  }
 ],
 "metadata": {
  "kernelspec": {
   "display_name": "Python 3.9.12 ('venv': venv)",
   "language": "python",
   "name": "python3"
  },
  "language_info": {
   "codemirror_mode": {
    "name": "ipython",
    "version": 3
   },
   "file_extension": ".py",
   "mimetype": "text/x-python",
   "name": "python",
   "nbconvert_exporter": "python",
   "pygments_lexer": "ipython3",
   "version": "3.9.12"
  },
  "orig_nbformat": 4,
  "vscode": {
   "interpreter": {
    "hash": "79908180275a62526c67fb60a3154e769bfec5a7de255e31e6657abdc969e915"
   }
  }
 },
 "nbformat": 4,
 "nbformat_minor": 2
}
