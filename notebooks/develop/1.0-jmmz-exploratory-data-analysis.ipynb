{
 "cells": [
  {
   "cell_type": "markdown",
   "metadata": {},
   "source": [
    "You could use this notebook to do a basic exploration of the data\n",
    "Maybe you would like to have one notebook named template.ipynb, as suggest [repoducible-model](https://github.com/cmawer/reproducible-model)"
   ]
  },
  {
   "cell_type": "markdown",
   "metadata": {},
   "source": [
    "# Example for load data from Big Query (And how use the whole package within notebooks)"
   ]
  },
  {
   "cell_type": "code",
   "execution_count": 1,
   "metadata": {},
   "outputs": [],
   "source": [
    "#Add the absolute path of the package within the paths in which python looks for modules, packages and functions.\n",
    "#Allows scripts and modules found within other folders to be used in this notebook.\n",
    "import os\n",
    "import sys\n",
    "\n",
    "package_path = os.path.abspath(os.path.join(f'..{os.sep}..'))\n",
    "if package_path not in sys.path:\n",
    "    sys.path.append(package_path)"
   ]
  },
  {
   "cell_type": "code",
   "execution_count": 2,
   "metadata": {},
   "outputs": [],
   "source": [
    "import pandas as pd\n",
    "from src.load_data import Load_data as ld\n",
    "\n",
    "#Queries for load data from BQ\n",
    "q_relation_CBB_platform = \"\"\" \n",
    "SELECT\n",
    "  *\n",
    "FROM\n",
    "  `dolphin-prod.bi_visualization.relacion_plataforma_CBB`\n",
    "\"\"\"\n",
    "\n",
    "#Using Load_data class to call data from BQ\n",
    "load = ld()\n",
    "df_relation = load.from_BigQuery(query=q_relation_CBB_platform, name_file=\"credentials_bq.json\")"
   ]
  },
  {
   "cell_type": "markdown",
   "metadata": {},
   "source": [
    "# Save data within data folder"
   ]
  },
  {
   "cell_type": "code",
   "execution_count": 3,
   "metadata": {},
   "outputs": [],
   "source": [
    "from data.data_paths import Data\n",
    "\n",
    "path_data = Data().get_path(type=\"raw\")\n",
    "df_relation.to_csv(path_or_buf = path_data + \"relation_cbb_platform.csv\", index=False)"
   ]
  }
 ],
 "metadata": {
  "kernelspec": {
   "display_name": "Python 3.10.4 ('env_HC_SAGRILAFT')",
   "language": "python",
   "name": "python3"
  },
  "language_info": {
   "codemirror_mode": {
    "name": "ipython",
    "version": 3
   },
   "file_extension": ".py",
   "mimetype": "text/x-python",
   "name": "python",
   "nbconvert_exporter": "python",
   "pygments_lexer": "ipython3",
   "version": "3.10.4"
  },
  "orig_nbformat": 4,
  "vscode": {
   "interpreter": {
    "hash": "e0d0a39b9fff9a48c1a9045ef2608af35b06653a6c21f58017b684a28f0da35b"
   }
  }
 },
 "nbformat": 4,
 "nbformat_minor": 2
}
